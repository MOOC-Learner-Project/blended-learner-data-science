{
 "cells": [
  {
   "cell_type": "code",
   "execution_count": null,
   "metadata": {},
   "outputs": [],
   "source": [
    "import dill\n",
    "from utilities import *"
   ]
  },
  {
   "cell_type": "code",
   "execution_count": null,
   "metadata": {},
   "outputs": [],
   "source": [
    "dill.load_session('user_and_course_dfs.db')"
   ]
  },
  {
   "cell_type": "code",
   "execution_count": null,
   "metadata": {},
   "outputs": [],
   "source": [
    "%run other_graphing_utilities.ipynb"
   ]
  },
  {
   "cell_type": "code",
   "execution_count": null,
   "metadata": {},
   "outputs": [],
   "source": [
    "c.to_file = False"
   ]
  },
  {
   "cell_type": "markdown",
   "metadata": {},
   "source": [
    "ai only"
   ]
  },
  {
   "cell_type": "code",
   "execution_count": null,
   "metadata": {},
   "outputs": [],
   "source": [
    "clicks_freqs = collections.defaultdict(int)\n",
    "\n",
    "for u in user_urls_dfs:\n",
    "    days_clicked = len(u.groupby(by='day'))\n",
    "\n",
    "    clicks_freqs[days_clicked] += 1\n",
    "\n",
    "click_freqs_df = pd.DataFrame.from_dict(clicks_freqs, orient='index').sort_index()"
   ]
  },
  {
   "cell_type": "code",
   "execution_count": null,
   "metadata": {},
   "outputs": [],
   "source": [
    "plot_broken_y_bar(\n",
    "    click_freqs_df, lims=[(0, 52), (140, 150)], \n",
    "    xlabel=\"Days with Click Activity Per User\", ylabel=\"Frequency\", \n",
    "    ylabel_loc=(-3, 62), figsize=(6, 4), breakline_len=.013\n",
    ")"
   ]
  },
  {
   "cell_type": "markdown",
   "metadata": {},
   "source": [
    "ai+edx only"
   ]
  },
  {
   "cell_type": "code",
   "execution_count": null,
   "metadata": {},
   "outputs": [],
   "source": [
    "clicks_freqs_ai_edx = collections.defaultdict(int)\n",
    "\n",
    "for u in ai_edx_dfs:\n",
    "    days_clicked = len(u.groupby(by='day'))\n",
    "\n",
    "    clicks_freqs_ai_edx[days_clicked] += 1\n",
    "\n",
    "click_freqs_ai_edx_df = pd.DataFrame.from_dict(clicks_freqs_ai_edx, orient='index').sort_index()"
   ]
  },
  {
   "cell_type": "code",
   "execution_count": null,
   "metadata": {},
   "outputs": [],
   "source": [
    "ax = click_freqs_ai_edx_df.plot(kind='bar')\n",
    "ax.set(title='Frequency of Click Activity by Day Per User', xlabel=\"Days with Click Activity Per User\", ylabel=\"Frequency\")"
   ]
  },
  {
   "cell_type": "code",
   "execution_count": null,
   "metadata": {},
   "outputs": [],
   "source": []
  }
 ],
 "metadata": {
  "kernelspec": {
   "display_name": "Python 3",
   "language": "python",
   "name": "python3"
  },
  "language_info": {
   "codemirror_mode": {
    "name": "ipython",
    "version": 3
   },
   "file_extension": ".py",
   "mimetype": "text/x-python",
   "name": "python",
   "nbconvert_exporter": "python",
   "pygments_lexer": "ipython3",
   "version": "3.8.2"
  }
 },
 "nbformat": 4,
 "nbformat_minor": 2
}
