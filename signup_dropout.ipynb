{
 "cells": [
  {
   "cell_type": "code",
   "execution_count": null,
   "metadata": {},
   "outputs": [],
   "source": [
    "import dill"
   ]
  },
  {
   "cell_type": "code",
   "execution_count": null,
   "metadata": {},
   "outputs": [],
   "source": [
    "dill.load_session('user_and_course_dfs.db')"
   ]
  },
  {
   "cell_type": "code",
   "execution_count": null,
   "metadata": {},
   "outputs": [],
   "source": [
    "from utilities import *"
   ]
  },
  {
   "cell_type": "code",
   "execution_count": null,
   "metadata": {},
   "outputs": [],
   "source": [
    "from datetime import timedelta"
   ]
  },
  {
   "cell_type": "code",
   "execution_count": null,
   "metadata": {},
   "outputs": [],
   "source": [
    "%run other_graphing_utilities.ipynb"
   ]
  },
  {
   "cell_type": "code",
   "execution_count": null,
   "metadata": {},
   "outputs": [],
   "source": [
    "c.to_file = False"
   ]
  },
  {
   "cell_type": "code",
   "execution_count": null,
   "metadata": {},
   "outputs": [],
   "source": [
    "def get_first_and_last_activity(data):\n",
    "    for u in data:\n",
    "        yield u.day.iloc[0], u.day.iloc[-1]\n",
    "        \n",
    "def get_weekly_signups_and_dropouts_ratios(data):\n",
    "    signups = []\n",
    "    dropouts = []\n",
    "\n",
    "    for u in data:\n",
    "        signups.append(u.day.iloc[0])\n",
    "        dropouts.append(u.day.iloc[-1])\n",
    "\n",
    "    signups.sort()\n",
    "    dropouts.sort()\n",
    "\n",
    "    first = signups[0]\n",
    "    last = dropouts[-1]\n",
    "\n",
    "    bins = math.ceil((last - first).days / 7)\n",
    "\n",
    "    weekly_populations = np.zeros(bins+2)\n",
    "\n",
    "    one_week = timedelta(7)\n",
    "\n",
    "    end_week = first\n",
    "\n",
    "    sign_sections = []\n",
    "    drop_sections = []\n",
    "\n",
    "    for i in range(1, bins+2):\n",
    "        end_week += one_week\n",
    "\n",
    "        sign_week = [x for x in signups if x < end_week and x >= end_week - one_week]\n",
    "        drop_week = [x for x in dropouts if x < end_week and x >= end_week - one_week]\n",
    "\n",
    "        sign_sections.append(sign_week)\n",
    "        drop_sections.append(drop_week)\n",
    "\n",
    "        weekly_populations[i] = len(sign_week) - len(drop_week) + weekly_populations[i-1]\n",
    "\n",
    "        # Don't divide by zero\n",
    "        if not weekly_populations[i]: weekly_populations[i] = 1\n",
    "\n",
    "    weekly_populations = np.delete(weekly_populations, 0)\n",
    "\n",
    "    assert(len(weekly_populations) == bins+1 == len(sign_sections) == len(drop_sections))\n",
    "\n",
    "    sign_percs = []\n",
    "    drop_percs = []\n",
    "\n",
    "    for i in range(bins+1):\n",
    "        sign_rate = len(sign_sections[i]) / weekly_populations[i]\n",
    "        drop_rate = len(drop_sections[i]) / weekly_populations[i]\n",
    "\n",
    "        total_rate = sign_rate + drop_rate\n",
    "\n",
    "        sign_percs.append(sign_rate / total_rate)\n",
    "        drop_percs.append(drop_rate / total_rate)\n",
    "\n",
    "    return pd.DataFrame(zip(sign_percs, drop_percs), columns=['Signup Rate', 'Dropout Rate'])\n",
    "\n",
    "def get_first_last_activity(data):\n",
    "    ## Get first time active dates and last time active dates\n",
    "\n",
    "    # dictionaries for first and last activity divided into whether they occur on the same day\n",
    "    days = [{} for _ in range(4)] \n",
    "\n",
    "    # indices for the dictionaries\n",
    "    # F = First, L = Last\n",
    "    # S = Same, D = Different\n",
    "    FS, LS = 0, 1\n",
    "    FD, LD = 2, 3\n",
    "\n",
    "    # Last active dates are denoted as negative values and first active dates are positive\n",
    "    for first, last in get_first_and_last_activity(data):\n",
    "        first_days, last_days = days[FS : LS+1] if first == last else days[FD : LD+1]\n",
    "\n",
    "        first_days[first] = first_days.get(first, 0) + 1\n",
    "        last_days[last] = last_days.get(last, 0) - 1\n",
    "\n",
    "    logs_df = pd.DataFrame(days).fillna(0)\n",
    "    logs_df = logs_df.transpose()\n",
    "    \n",
    "    return logs_df\n",
    "    \n",
    "def plot_first_last_activity(logs_df):\n",
    "    reset_style()\n",
    "    # Increment value between yticks\n",
    "    step = 5\n",
    "\n",
    "    # Include max value in yticks\n",
    "    max_y = int(max(logs_df.max(axis=0)))\n",
    "    min_y = int(min(logs_df.min(axis=0)))\n",
    "\n",
    "    max_y += 1 if (max_y % step == 0) else 0\n",
    "\n",
    "    ax = logs_df.plot(kind='bar', stacked=True, figsize=(19, 9), width=0.8, yticks=[i for i in range(min_y, max_y, step)])\n",
    "\n",
    "    # Change negative y ticks to positive because we are only concerned with magnitude\n",
    "    ax.set(yticklabels=[abs(y) for y in plt.yticks()[0]], \n",
    "              xlabel=\"Date*\", ylabel=\"Frequency\", title=\"First Time Active vs Last Time Active\")\n",
    "\n",
    "    set_red_text_for_workshops(ax.get_xticklabels())\n",
    "\n",
    "    # Set patterns for differnt day bars\n",
    "    hatches = [p for p in ('', '', '////', '////') for i in range(len(logs_df))]\n",
    "    for bar, hatch in zip(ax.patches, hatches):\n",
    "        bar.set_hatch(hatch)\n",
    "\n",
    "    # Add annotation to bottom left of graph\n",
    "    plt.text(-0.6, -64, \"*Workshop dates are marked in red\")\n",
    "\n",
    "    ax.legend(['First time active (same day)', 'Last time active (same day)', \n",
    "                    'First time active (different day)', 'Last time active (different day)'])\n",
    "\n",
    "    save_or_display(\"First Time Active vs Last Time Active (Same vs Different)\")"
   ]
  },
  {
   "cell_type": "code",
   "execution_count": null,
   "metadata": {},
   "outputs": [],
   "source": [
    "user_url_first_last = get_first_last_activity(user_urls_dfs)\n",
    "plot_first_last_activity(user_url_first_last)"
   ]
  },
  {
   "cell_type": "code",
   "execution_count": null,
   "metadata": {},
   "outputs": [],
   "source": [
    "user_url_first_last = get_first_last_activity(ai_edx_dfs)\n",
    "plot_first_last_activity(user_url_first_last)"
   ]
  },
  {
   "cell_type": "code",
   "execution_count": null,
   "metadata": {},
   "outputs": [],
   "source": [
    "time_delta_freqs = collections.defaultdict(int)\n",
    "\n",
    "time_deltas = []\n",
    "\n",
    "for first, last in get_first_and_last_activity(user_urls_dfs):\n",
    "    delta = (last - first).days\n",
    "    \n",
    "    time_deltas.append(delta)\n",
    "    time_delta_freqs[delta] += 1\n",
    "\n",
    "time_delta_df = pd.DataFrame.from_dict(time_delta_freqs, orient='index').sort_index()"
   ]
  },
  {
   "cell_type": "code",
   "execution_count": null,
   "metadata": {},
   "outputs": [],
   "source": [
    "plot_broken_y_bar(\n",
    "    time_delta_df, lims=[(0, 19), (140, 155)], \n",
    "    xlabel=\"Time Interval Between First and Last Activity\", \n",
    "    ylabel=\"Number of students\", \n",
    "    ylabel_loc=(-3.8, 24), figsize=(15, 5), breakline_len=.008\n",
    ")"
   ]
  },
  {
   "cell_type": "code",
   "execution_count": null,
   "metadata": {},
   "outputs": [],
   "source": [
    "time_delta_freqs = collections.defaultdict(int)\n",
    "\n",
    "time_deltas = []\n",
    "\n",
    "for first, last in get_first_and_last_activity(ai_edx_dfs):\n",
    "    delta = (last - first).days\n",
    "    if delta == 57:\n",
    "        print(\"foo\")\n",
    "    time_deltas.append(delta)\n",
    "    time_delta_freqs[delta] += 1\n",
    "\n",
    "time_delta_df = pd.DataFrame.from_dict(time_delta_freqs, orient='index').sort_index()"
   ]
  },
  {
   "cell_type": "code",
   "execution_count": null,
   "metadata": {},
   "outputs": [],
   "source": [
    "time_delta_df.plot(kind='bar')"
   ]
  },
  {
   "cell_type": "code",
   "execution_count": null,
   "metadata": {},
   "outputs": [],
   "source": [
    "reset_style()\n",
    "\n",
    "tdf_df = pd.DataFrame(time_deltas)\n",
    "\n",
    "ax = tdf_df.plot(kind='hist', density=True, cumulative=True, ec=\"white\")\n",
    "\n",
    "title=\"Cumulative Distribution of Time Between First and Last Activity\"\n",
    "\n",
    "ax.set(xlabel=\"Time Interval Between First and Last Activity\", \n",
    "       ylabel=\"Percentage\", title=title)\n",
    "\n",
    "ax.get_legend().remove()\n",
    "\n",
    "save_or_display(title)\n",
    "    \n",
    "tdf_df.describe()"
   ]
  },
  {
   "cell_type": "code",
   "execution_count": null,
   "metadata": {},
   "outputs": [],
   "source": [
    "drops_signs_df = get_weekly_signups_and_dropouts_ratios(user_urls_dfs)\n",
    "\n",
    "ax = drops_signs_df.plot(kind='bar', width=0.8, align='edge')\n",
    "ax.set(xlabel=\"Week #\", ylabel=\"Ratio of Signup to Dropout Rates Based on Student Population\")\n",
    "\n",
    "save_or_display(\"Weekly Signup and Dropout Rate Ratios\")"
   ]
  },
  {
   "cell_type": "code",
   "execution_count": null,
   "metadata": {},
   "outputs": [],
   "source": [
    "def dropoff_by_section_type(sections_in_order, normalized_dict=None, dict_func=lambda x: x):\n",
    "    dropoff_by_section_type = collections.OrderedDict.fromkeys(sections_in_order, 0)\n",
    "\n",
    "    for u in all_resource_dfs:\n",
    "        last_resource = None\n",
    "        last_index = -1\n",
    "\n",
    "        for display_name in u.display_name.unique():\n",
    "            try:\n",
    "                index = resource_order.index(display_name)\n",
    "\n",
    "                if index > last_index:\n",
    "                    last_resource = display_name\n",
    "\n",
    "            except ValueError:\n",
    "                pass\n",
    "\n",
    "        if last_resource:\n",
    "            dropoff_by_section_type[dict_func(last_resource)] += 1\n",
    "\n",
    "    if normalized_dict:\n",
    "        for section, value in normalized_dict.items():\n",
    "            dropoff_by_section_type[section] /= value\n",
    "\n",
    "    return pd.Series(dropoff_by_section_type)"
   ]
  },
  {
   "cell_type": "code",
   "execution_count": null,
   "metadata": {},
   "outputs": [],
   "source": [
    "num_users_using_resources = collections.defaultdict(int)\n",
    "\n",
    "for u in all_resource_dfs:\n",
    "    for resource in resource_order:\n",
    "        if resource in u.display_name.values:\n",
    "            num_users_using_resources[resource] += 1\n",
    "            \n",
    "section_user_use = collections.defaultdict(int)\n",
    "\n",
    "for resource, n_users in num_users_using_resources.items():\n",
    "    section_user_use[section_of_resources[resource]] += n_users\n",
    "\n",
    "reordering = [\n",
    "    'Getting Started', \n",
    "    'Unit 1: Introduction to MIT App Inventor', \n",
    "    'Unit 2: Application Coding',\n",
    "    'Unit 3: Programming Basics & Dialog', \n",
    "    'Unit 4: More Programming Basics', \n",
    "    'Unit 5: Alarm Clock Application', \n",
    "    'Unit 6: Audio & Video', \n",
    "    'Unit 7: Drawing Application', \n",
    "    'Unit 8: File',\n",
    "    'Unit 9: Game', \n",
    "    'Unit 10: Device Location', \n",
    "    'Unit 11: Web Browsing',\n",
    "    'Capstone Project'\n",
    "\n",
    "]\n",
    "section_series = pd.Series(section_user_use).reindex()\n",
    "section_series = section_series.reindex(index=reordering)"
   ]
  },
  {
   "cell_type": "code",
   "execution_count": null,
   "metadata": {},
   "outputs": [],
   "source": [
    "dropoff_by_section = dropoff_by_section_type(section_order, dict_func = lambda x: section_of_resources[x])"
   ]
  },
  {
   "cell_type": "code",
   "execution_count": null,
   "metadata": {},
   "outputs": [],
   "source": [
    "dropoff_by_resource = dropoff_by_section_type(resource_order)\n",
    "dropoff_by_resource = dropoff_by_resource[dropoff_by_resource != 0]"
   ]
  },
  {
   "cell_type": "code",
   "execution_count": null,
   "metadata": {},
   "outputs": [],
   "source": [
    "dropoff_section_ax = dropoff_by_section.plot(kind='bar', legend=False, title=\"Dropoffs by section\")\n",
    "dropoff_section_ax.set(ylabel='# Dropoffs', xlabel='Section')\n",
    "\n",
    "c.to_file = True\n",
    "save_or_display(\"Dropoff by section\")"
   ]
  },
  {
   "cell_type": "code",
   "execution_count": null,
   "metadata": {},
   "outputs": [],
   "source": [
    "dropoff_resource_ax = dropoff_by_resource.plot(kind='bar', legend=False, title=\"Dropoffs by resource\")\n",
    "dropoff_resource_ax.set(ylabel='# Dropoffs', xlabel='Resource')\n",
    "\n",
    "save_or_display(\"Dropoff by resource\")"
   ]
  },
  {
   "cell_type": "code",
   "execution_count": null,
   "metadata": {},
   "outputs": [],
   "source": [
    "print(section_series.values)\n",
    "print(section_series.index)\n",
    "sns.regplot([i for i in range(len(section_series.index))], section_series.values)"
   ]
  }
 ],
 "metadata": {
  "kernelspec": {
   "display_name": "Python 3",
   "language": "python",
   "name": "python3"
  },
  "language_info": {
   "codemirror_mode": {
    "name": "ipython",
    "version": 3
   },
   "file_extension": ".py",
   "mimetype": "text/x-python",
   "name": "python",
   "nbconvert_exporter": "python",
   "pygments_lexer": "ipython3",
   "version": "3.8.2"
  }
 },
 "nbformat": 4,
 "nbformat_minor": 2
}
