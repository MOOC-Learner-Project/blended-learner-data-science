{
 "cells": [
  {
   "cell_type": "code",
   "execution_count": null,
   "metadata": {},
   "outputs": [],
   "source": [
    "%run scm_bky_utilities.ipynb\n",
    "import scipy"
   ]
  },
  {
   "cell_type": "code",
   "execution_count": null,
   "metadata": {},
   "outputs": [],
   "source": [
    "N_BINS = 20"
   ]
  },
  {
   "cell_type": "code",
   "execution_count": null,
   "metadata": {},
   "outputs": [],
   "source": [
    "def plot_session_counts(folder, keep_duplicates=True):\n",
    "    \"\"\"Plot the number of sessions for each project.\n",
    "\n",
    "    :param folder: Where the backups are stored.\n",
    "    :param keep_duplicates: Whether to keep duplicate data points.\n",
    "\n",
    "    \"\"\"\n",
    "    session_counts = get_session_counts(folder, keep_duplicates=keep_duplicates)\n",
    "    mx = max(session_counts)\n",
    "\n",
    "    fig = plt.figure(figsize=(12.8, 6.4), constrained_layout=True)\n",
    "    ax = fig.subplots()\n",
    "    bins = np.linspace(0, mx, mx + 1)\n",
    "\n",
    "    ax.hist(session_counts, bins, alpha=0.5, density=False)\n",
    "    ax.set(xlabel=\"Number of Sessions\", ylabel=\"Frequency\",\n",
    "           title=\"Distribution of Number of Sessions for Projects\")\n",
    "    \n",
    "    save_or_display(\"Distribution of Number of Sessions for Projects\")\n",
    "\n",
    "def get_session_counts(folder, keep_duplicates=True):\n",
    "    \"\"\"Get the number of sessions per project.\n",
    "\n",
    "    :param folder: The folder where the backups are stored.\n",
    "    :param keep_duplicates: Whether to keep duplicate data points.\n",
    "    :returns: A list of the number of sessions per project.\n",
    "    :rtype: List.\n",
    "\n",
    "    \"\"\"\n",
    "    sessions = get_project_sessions(folder, keep_duplicates=keep_duplicates)\n",
    "\n",
    "    return [len(b) for b in sessions.values()]\n",
    "\n",
    "def get_distribution_saves_per_session(folder, interval=TWO_HOURS, rlength=False):\n",
    "    sessions = get_project_sessions(folder, keep_duplicates=True, time_interval=interval)\n",
    "    percents = []\n",
    "    for project in sessions.values():\n",
    "\n",
    "        for session in project:\n",
    "            times = sorted(list(session['time']))\n",
    "            \n",
    "            delta_t = get_time_since_beginning(times, -1)\n",
    "            \n",
    "            for i in range(1, len(times)-1):\n",
    "                time_magnitude = get_time_since_beginning(times, i)\n",
    "                percent = time_magnitude / delta_t\n",
    "                percents.append(percent)\n",
    "    \n",
    "    df = pd.DataFrame(percents)\n",
    "\n",
    "    return df\n",
    "\n",
    "\n",
    "def plot_dist_sub_counts(folder):\n",
    "    \"\"\"Plot the distribution of submission counts as a histogram, irrespective of project.\n",
    "\n",
    "    :param folder: The folder where backups are stored\n",
    "\n",
    "    \"\"\"\n",
    "    sub_counts = []\n",
    "\n",
    "    for _, _, files in os.walk(folder):\n",
    "        times = 0\n",
    "        \n",
    "        for f in files:\n",
    "            file_name, file_ext = os.path.splitext(f)\n",
    "\n",
    "            if BACKUP in file_ext and SCM in file_name:\n",
    "                times += 1\n",
    "        \n",
    "        if times: sub_counts.append(times)\n",
    "\n",
    "    fig = plt.figure(figsize=(12.9, 12.9))\n",
    "    ax = fig.subplots(3, 1)\n",
    "\n",
    "    fig.suptitle(\"Distribution of Submission Counts\")\n",
    "\n",
    "    bins = [np.linspace(0, 150, 150),\n",
    "            np.linspace(0, 150, 50),\n",
    "            np.linspace(0, 50, 50)]\n",
    "\n",
    "    for i in range(len(bins)):\n",
    "        ax[i].hist(sub_counts, bins[i], alpha=0.5, density=False)\n",
    "        \n",
    "        ax[i].set(xlabel=\"Frequency\", ylabel=\"Number of Submissions\")\n",
    "\n",
    "    save_or_display(\"Distribution of Submission Counts\")"
   ]
  },
  {
   "cell_type": "code",
   "execution_count": null,
   "metadata": {
    "scrolled": true
   },
   "outputs": [],
   "source": [
    "c.to_file = False\n",
    "plot_session_counts(AI_DATA, keep_duplicates=True)"
   ]
  },
  {
   "cell_type": "code",
   "execution_count": null,
   "metadata": {},
   "outputs": [],
   "source": [
    "plot_dist_sub_counts(AI_DATA)"
   ]
  },
  {
   "cell_type": "code",
   "execution_count": null,
   "metadata": {},
   "outputs": [],
   "source": [
    "distribution_saves_per_session = get_distribution_saves_per_session(AI_DATA)\n",
    "ax = distribution_saves_per_session.plot(kind='hist', ec='white', bins=20)\n",
    "ax.set(xlabel='Proportion of session finished')\n",
    "save_or_display(\"Distribution of saves per session\")"
   ]
  },
  {
   "cell_type": "markdown",
   "metadata": {},
   "source": [
    "See different session times (10 minutes btwn 10-120 mins)"
   ]
  },
  {
   "cell_type": "code",
   "execution_count": null,
   "metadata": {
    "scrolled": true
   },
   "outputs": [],
   "source": [
    "c.to_file=False\n",
    "for i in range(5, 121, 10):\n",
    "    print(i)\n",
    "    distribution_saves_per_session = get_distribution_saves_per_session(AI_DATA, interval=i*60)\n",
    "    ax = distribution_saves_per_session.plot(kind='hist', ec='white', bins=20)\n",
    "    ax.set(xlabel='Proportion of session finished')\n",
    "    save_or_display(\"Distribution of saves per session\")\n"
   ]
  },
  {
   "cell_type": "code",
   "execution_count": null,
   "metadata": {},
   "outputs": [],
   "source": [
    "short = []\n",
    "for i in range(1, 5):\n",
    "    d = get_distribution_saves_per_session(AI_DATA, interval=i*60)\n",
    "    short.append(normalize_data(d, N_BINS))\n",
    "    \n",
    "df_concat = pd.concat(short)\n",
    "by_row_index = df_concat.groupby(df_concat.index)\n",
    "df_medians_short = by_row_index.median()*100\n",
    "df_medians_short"
   ]
  },
  {
   "cell_type": "code",
   "execution_count": null,
   "metadata": {
    "scrolled": true
   },
   "outputs": [],
   "source": [
    "medium = []\n",
    "for i in range(6, 20):\n",
    "    d = get_distribution_saves_per_session(AI_DATA, interval=i*60)\n",
    "    medium.append(normalize_data(d, N_BINS))\n",
    "\n",
    "df_concat = pd.concat(medium)\n",
    "by_row_index = df_concat.groupby(df_concat.index)\n",
    "df_medians_med = by_row_index.median()*100\n",
    "df_medians_med"
   ]
  },
  {
   "cell_type": "code",
   "execution_count": null,
   "metadata": {
    "scrolled": true
   },
   "outputs": [],
   "source": [
    "large = []\n",
    "for i in range(20, 1440, 10):\n",
    "    d  = get_distribution_saves_per_session(AI_DATA, interval=i*60)\n",
    "    large.append(normalize_data(d, N_BINS))\n",
    "\n",
    "df_concat = pd.concat(large)\n",
    "by_row_index = df_concat.groupby(df_concat.index)\n",
    "df_medians_large = by_row_index.median()*100\n",
    "df_medians_large"
   ]
  },
  {
   "cell_type": "code",
   "execution_count": null,
   "metadata": {},
   "outputs": [],
   "source": [
    "print(len(short), len(medium), len(large))"
   ]
  },
  {
   "cell_type": "code",
   "execution_count": null,
   "metadata": {
    "scrolled": false
   },
   "outputs": [],
   "source": [
    "new_df = df_medians_short.copy()\n",
    "new_df.columns = ['short']\n",
    "new_df['medium'] = df_medians_med[1]\n",
    "new_df['large'] = df_medians_large[1]\n",
    "ax = new_df.plot(kind='bar', width=1, ec='white', align='edge')\n",
    "ax.set(xlabel=\"Proportion of session finished\")\n",
    "ax.set(ylabel='Percentage of Saves Out of the \\n Total Number of Saves in a Session')\n",
    "ticks = [str(i)[0:4] for i in np.arange(0, 101, 5)]\n",
    "ax.set_xticklabels(ticks)\n",
    "save_plot(\"sml\", graph_type=\"\")"
   ]
  },
  {
   "cell_type": "code",
   "execution_count": null,
   "metadata": {},
   "outputs": [],
   "source": [
    "l = 0\n",
    "for i in range(1, 6):\n",
    "    l+= len(get_project_sessions(AI_DATA, keep_duplicates=True, time_interval=i*60))\n",
    "print(l)"
   ]
  },
  {
   "cell_type": "code",
   "execution_count": null,
   "metadata": {},
   "outputs": [],
   "source": [
    "l = 0\n",
    "for i in range(6, 20):\n",
    "    l+= len(get_project_sessions(AI_DATA, keep_duplicates=True, time_interval=i*60))\n",
    "print(l)"
   ]
  },
  {
   "cell_type": "code",
   "execution_count": null,
   "metadata": {},
   "outputs": [],
   "source": [
    "l = 0\n",
    "for i in range(20, 1440, 100):\n",
    "    l+= len(get_project_sessions(AI_DATA, keep_duplicates=True, time_interval=i*60))\n",
    "print(l)"
   ]
  },
  {
   "cell_type": "markdown",
   "metadata": {},
   "source": [
    "See different session times (btwn 3 and 24 hours)"
   ]
  },
  {
   "cell_type": "code",
   "execution_count": null,
   "metadata": {
    "scrolled": true
   },
   "outputs": [],
   "source": [
    "for i in range(3, 24):\n",
    "    print(i)\n",
    "    distribution_saves_per_session = get_distribution_saves_per_session(AI_DATA, interval=i*60*60)\n",
    "    ax = distribution_saves_per_session.plot(kind='hist', ec='white', bins=100)\n",
    "    ax.set(xlabel='Proportion of session finished')\n",
    "    save_or_display(\"Distribution of saves per session\")"
   ]
  },
  {
   "cell_type": "code",
   "execution_count": null,
   "metadata": {
    "scrolled": true
   },
   "outputs": [],
   "source": [
    "all_distributions = []\n",
    "for i in range(10, 40):\n",
    "    print(i)\n",
    "    distributions = get_distribution_saves_per_session(AI_DATA, interval=i*60)\n",
    "    all_distributions.append(normalize_data(distributions, N_BINS))\n"
   ]
  },
  {
   "cell_type": "code",
   "execution_count": null,
   "metadata": {},
   "outputs": [],
   "source": [
    "for i in range(1, 11):\n",
    "    print(i)\n",
    "    distributions = get_distribution_saves_per_session(AI_DATA, interval=i*60)\n",
    "    all_distributions.append(normalize_data(distributions, N_BINS))"
   ]
  },
  {
   "cell_type": "code",
   "execution_count": null,
   "metadata": {},
   "outputs": [],
   "source": [
    "all_distributions.append(normalize_data(get_distribution_saves_per_session(AI_DATA, interval=40*60), N_BINS))"
   ]
  },
  {
   "cell_type": "code",
   "execution_count": null,
   "metadata": {},
   "outputs": [],
   "source": [
    "print(len(all_distributions))"
   ]
  },
  {
   "cell_type": "code",
   "execution_count": null,
   "metadata": {
    "scrolled": false
   },
   "outputs": [],
   "source": [
    "df_concat = pd.concat(all_distributions)\n",
    "by_row_index = df_concat.groupby(df_concat.index)\n",
    "df_medians = by_row_index.median()*100\n",
    "\n",
    "ax = df_medians.plot(kind='bar', width=1, ec='white', align='edge')\n",
    "ax.set(xlabel='Pecentage of Session Finished', ylabel='Percentage of Saves Out of the \\nTotal Number of Saves in a Session')\n",
    "ax.get_legend().remove()\n",
    "ticks = [str(i)[0:4] for i in np.arange(0, 101, int((100/N_BINS)))]\n",
    "ax.set_xticklabels(ticks)\n",
    "save_plot(\"Aggregated saves\", graph_type=\"\")"
   ]
  },
  {
   "cell_type": "code",
   "execution_count": null,
   "metadata": {},
   "outputs": [],
   "source": [
    "df_concat = pd.concat(all_distributions)\n",
    "df_concat['i'] = df_concat.index\n",
    "extremes = df_concat[(df_concat['i'] <= 0.5) | (df_concat['i'] >= 0.95)]\n",
    "center = df_concat[(df_concat['i'] > 0.5) & (df_concat['i'] < 0.95)]\n",
    "\n",
    "scipy.stats.mstats.kruskalwallis(extremes[1].values, center[1].values)"
   ]
  },
  {
   "cell_type": "code",
   "execution_count": null,
   "metadata": {},
   "outputs": [],
   "source": [
    "times = get_time_between_saves(AI_DATA)"
   ]
  },
  {
   "cell_type": "code",
   "execution_count": null,
   "metadata": {
    "scrolled": true
   },
   "outputs": [],
   "source": [
    "fig, ax = plt.subplots()\n",
    "ax.hist(times, bins=13000)\n",
    "ax.set_xlim([0, 7200])\n"
   ]
  },
  {
   "cell_type": "code",
   "execution_count": null,
   "metadata": {},
   "outputs": [],
   "source": [
    "times = np.array(times)\n",
    "\n",
    "fig, ax = plt.subplots()\n",
    "ax.hist(times[times < 1000], bins=50)"
   ]
  }
 ],
 "metadata": {
  "kernelspec": {
   "display_name": "Python 3",
   "language": "python",
   "name": "python3"
  },
  "language_info": {
   "codemirror_mode": {
    "name": "ipython",
    "version": 3
   },
   "file_extension": ".py",
   "mimetype": "text/x-python",
   "name": "python",
   "nbconvert_exporter": "python",
   "pygments_lexer": "ipython3",
   "version": "3.8.2"
  }
 },
 "nbformat": 4,
 "nbformat_minor": 2
}
