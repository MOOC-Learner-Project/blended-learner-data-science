{
 "cells": [
  {
   "cell_type": "code",
   "execution_count": null,
   "metadata": {},
   "outputs": [],
   "source": [
    "import dill\n",
    "dill.load_session('../user_and_course_dfs.db')"
   ]
  },
  {
   "cell_type": "code",
   "execution_count": null,
   "metadata": {},
   "outputs": [],
   "source": [
    "c.to_file = False"
   ]
  },
  {
   "cell_type": "code",
   "execution_count": null,
   "metadata": {},
   "outputs": [],
   "source": [
    "all_scm = collections.defaultdict(int)\n",
    "all_bky = collections.defaultdict(int)\n",
    "\n",
    "for user in user_times.keys():\n",
    "    uuid = get_uuid(user)\n",
    "    user_folder = os.path.join(AI_DATA, uuid)\n",
    "    \n",
    "    scm_nodes = get_nodes(SCM, user_folder)\n",
    "    bky_nodes = get_nodes(BKY, user_folder)\n",
    "    \n",
    "    for key, value in scm_nodes.items():\n",
    "        all_scm[key] += value\n",
    "    \n",
    "    for key, value in bky_nodes.items():\n",
    "        all_bky[key] += value"
   ]
  },
  {
   "cell_type": "code",
   "execution_count": null,
   "metadata": {},
   "outputs": [],
   "source": [
    "plot_nodes(all_scm, SCM, (6.4, 15))\n",
    "save_or_display(\"SCM node type for all files\")\n",
    "plot_nodes(all_bky, BKY, (6.4, 12.9))\n",
    "save_or_display(\"BKY node type for all files\")"
   ]
  },
  {
   "cell_type": "code",
   "execution_count": null,
   "metadata": {},
   "outputs": [],
   "source": []
  }
 ],
 "metadata": {
  "kernelspec": {
   "display_name": "Python 3",
   "language": "python",
   "name": "python3"
  },
  "language_info": {
   "codemirror_mode": {
    "name": "ipython",
    "version": 3
   },
   "file_extension": ".py",
   "mimetype": "text/x-python",
   "name": "python",
   "nbconvert_exporter": "python",
   "pygments_lexer": "ipython3",
   "version": "3.5.7"
  }
 },
 "nbformat": 4,
 "nbformat_minor": 2
}
