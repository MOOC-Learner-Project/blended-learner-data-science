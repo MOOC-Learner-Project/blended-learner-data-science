{
 "cells": [
  {
   "cell_type": "code",
   "execution_count": null,
   "metadata": {},
   "outputs": [],
   "source": [
    "import dill"
   ]
  },
  {
   "cell_type": "code",
   "execution_count": null,
   "metadata": {},
   "outputs": [],
   "source": [
    "dill.load_session('user_and_course_dfs.db')"
   ]
  },
  {
   "cell_type": "code",
   "execution_count": null,
   "metadata": {},
   "outputs": [],
   "source": [
    "from utilities import *"
   ]
  },
  {
   "cell_type": "code",
   "execution_count": null,
   "metadata": {},
   "outputs": [],
   "source": [
    "%run heatmap_utilities.ipynb\n",
    "%run other_graphing_utilities.ipynb"
   ]
  },
  {
   "cell_type": "code",
   "execution_count": null,
   "metadata": {},
   "outputs": [],
   "source": [
    "vmax=300\n",
    "c.to_file = False"
   ]
  },
  {
   "cell_type": "code",
   "execution_count": null,
   "metadata": {},
   "outputs": [],
   "source": [
    "def plot_resource_timeline_heatmap(u, *, figsize, font_scale, title_name=\"\", \n",
    "                                   title_addition=\"\", threshold=0, vmax=None, \n",
    "                                   ticks=None, normalized=False, \n",
    "                                   tick_label_colors=None, workshop_label_loc=None):\n",
    "    sns.set(font_scale=font_scale)\n",
    "    plt.figure(figsize=figsize)\n",
    "    \n",
    "    u = pd.concat(u, sort=False)\n",
    "    df = get_timeline_data(u, normalized)\n",
    "\n",
    "    cbar_label = \"Resource Usage\"\n",
    "    \n",
    "    fig = plt.figure(figsize=figsize)\n",
    "    \n",
    "    if tick_label_colors:\n",
    "        grid = plt.GridSpec(1, 2, width_ratios=[18, 1])\n",
    "        main_ax = fig.add_subplot(grid[0])\n",
    "        discrete_cbar_ax = fig.add_subplot(grid[1])\n",
    "    else:\n",
    "        main_ax = None\n",
    "    \n",
    "    if normalized:\n",
    "        cbar_label += \" Normalized Based On Total Resources Used that Day\"\n",
    "\n",
    "    vmin = 0 if vmax else None\n",
    "\n",
    "    ax = sns.heatmap(df, xticklabels=True, yticklabels=True, \n",
    "                     cmap=CMAP, vmin=vmin, vmax=vmax,\n",
    "                     cbar_kws={'label': cbar_label}, ax=main_ax)\n",
    "    \n",
    "    if not main_ax:\n",
    "        main_ax = ax\n",
    "    \n",
    "    if vmax:\n",
    "        resource_cbar = main_ax.collections[0].colorbar\n",
    "        resource_cbar.set_ticks(ticks[0])\n",
    "        resource_cbar.set_ticklabels(ticks[1])\n",
    "        \n",
    "    if tick_label_colors:\n",
    "        set_tick_colors(main_ax.get_yticklabels(which='both'), tick_label_colors, cax=discrete_cbar_ax)\n",
    "\n",
    "    set_red_text_for_workshops(main_ax.get_xticklabels())\n",
    "    title = get_title(\"{} Resource Timeline{}\", title_name, title_addition, u.user.iloc[0])\n",
    "    main_ax.set(title=title, xlabel=\"Date\", ylabel=\"Resource\")\n",
    "    \n",
    "    if workshop_label_loc:\n",
    "        plt.text(*workshop_label_loc, \"*Workshop dates are marked in red\", color='red')\n",
    "    \n",
    "    save_or_display(title, \"Heatmap\")\n",
    "    \n",
    "def get_timeline_data(u, normalized):\n",
    "    grouped_u = u.groupby(by='day')\n",
    "    \n",
    "    resources = []\n",
    "    \n",
    "    for _, row in grouped_u:\n",
    "        resources.extend(row.display_name.unique())\n",
    "    \n",
    "    resources = list(set(resources))\n",
    "    \n",
    "    sort_resources(resources)\n",
    "    \n",
    "    df = pd.DataFrame(index=resources)\n",
    "\n",
    "    for time, row in grouped_u:\n",
    "        values = []\n",
    "\n",
    "        for r in resources:\n",
    "            matches = len(row[row.display_name == r]) / (len(row) if normalized else 1)\n",
    "            \n",
    "            values.append(matches)\n",
    "        \n",
    "        # could this just be df['time'] = values?\n",
    "        df.loc[:, time] = values\n",
    "        \n",
    "    return df"
   ]
  },
  {
   "cell_type": "code",
   "execution_count": null,
   "metadata": {},
   "outputs": [],
   "source": [
    "mod_figs = {\n",
    "    '2cb63d38c0d7afccf3853ee3e8b9653e': (15, 15),\n",
    "    '34710aa14b316648e90d3e97b8ca952b': (10, 10),\n",
    "    '3c61e39e023c800499dbfc29e1637f55': (20, 4),\n",
    "    '798ae73ecfb86a78ab89be6e3ee33595': (4, 8),\n",
    "    '7e9e8df5eb95867d189a107ca4706ea8': (4, 20),\n",
    "    '94c0db498842ce1280d49331d4ea4016': (2, 8),\n",
    "    '96749bbb0b4e0976c985a92bd3f0ddb0': (3, 8),\n",
    "    'c4b6c2c3a3f08957abc17ee5c4752e84': (4, 15),\n",
    "    'd41d8cd98f00b204e9800998ecf8427e': (20, 6),\n",
    "    'fe540222fd0dfe96bcbc20d5a250e146': (6, 15)\n",
    "}\n",
    "\n",
    "plot_heatmaps(user_urls_dfs, mod_figs, plot_resource_timeline_heatmap)"
   ]
  },
  {
   "cell_type": "code",
   "execution_count": null,
   "metadata": {},
   "outputs": [],
   "source": [
    "mod_figs = {\n",
    "    '34710aa14b316648e90d3e97b8ca952b': (10, 10),\n",
    "    '96749bbb0b4e0976c985a92bd3f0ddb0': (3, 8),\n",
    "    '5349577d9e4c7b0d0bfe3403e9be3d47': (4, 15),\n",
    "    'bfc9b2a954447ccf0ae32e7165c85eb1': (8, 6)\n",
    "}\n",
    "\n",
    "plot_heatmaps(ai_edx_dfs, mod_figs, plot_resource_timeline_heatmap, title_addition=\"with SCM and BKY\")"
   ]
  },
  {
   "cell_type": "code",
   "execution_count": null,
   "metadata": {},
   "outputs": [],
   "source": [
    "plot_resource_timeline_heatmap(\n",
    "    user_urls_dfs, title_name=\"Combined\", font_scale=4, figsize=(100, 65),\n",
    "    title_addition=\"With Max Value Filtering\", vmax=vmax, ticks=ticks_and_texts(vmax)\n",
    ")"
   ]
  },
  {
   "cell_type": "code",
   "execution_count": null,
   "metadata": {},
   "outputs": [],
   "source": [
    "plot_resource_timeline_heatmap(\n",
    "    user_urls_dfs, title_name=\"Combined\", font_scale=4, figsize=(100, 65),\n",
    "    title_addition=\"With Max Value Filtering\", normalized=True\n",
    ")"
   ]
  },
  {
   "cell_type": "code",
   "execution_count": null,
   "metadata": {},
   "outputs": [],
   "source": [
    "plot_resource_timeline_heatmap(\n",
    "    ai_edx_dfs, title_name=\"Combined\", font_scale=4,\n",
    "    title_addition=\"with SCM and BKY With Max Filtering\", \n",
    "    vmax=vmax, ticks=ticks_and_texts(vmax), figsize=(100, 65)\n",
    ")"
   ]
  },
  {
   "cell_type": "code",
   "execution_count": null,
   "metadata": {},
   "outputs": [],
   "source": [
    "plot_resource_timeline_heatmap(\n",
    "    all_resource_dfs, title_name=\"Combined\", font_scale=4,\n",
    "    title_addition=\"with everything With Max Filtering\", \n",
    "    vmax=vmax, ticks=ticks_and_texts(vmax), figsize=(100, 90),\n",
    "    tick_label_colors=resource_categories\n",
    ")"
   ]
  },
  {
   "cell_type": "code",
   "execution_count": null,
   "metadata": {},
   "outputs": [],
   "source": [
    "plot_resource_timeline_heatmap(\n",
    "    ai_edx_dfs, title_name=\"Combined and Normalized\", font_scale=4,\n",
    "    title_addition=\"with SCM and BKY\", \n",
    "    figsize=(100, 90), normalized=True, \n",
    "    tick_label_colors=resource_categories\n",
    ")"
   ]
  },
  {
   "cell_type": "code",
   "execution_count": null,
   "metadata": {},
   "outputs": [],
   "source": [
    "plot_resource_timeline_heatmap(\n",
    "    all_resource_dfs, title_name=\"Combined and Normalized\", font_scale=4,\n",
    "    title_addition=\"with everything\", \n",
    "    figsize=(100, 90), normalized=True,\n",
    "    tick_label_colors=resource_categories\n",
    ")"
   ]
  },
  {
   "cell_type": "code",
   "execution_count": null,
   "metadata": {},
   "outputs": [],
   "source": [
    "interesting_intervals = [('2019-1-19', '2019-2-24'), ('2019-3-02', '2019-4-30')]\n",
    "interesting_intervals = [(get_date(d[0]).date(), get_date(d[1]).date()) for d in interesting_intervals]\n",
    "i = 0\n",
    "num_resource_threshold = 60\n",
    "max_resource_threshold = 100\n",
    "\n",
    "for u in all_resource_dfs:\n",
    "    for ii in interesting_intervals:\n",
    "        if u.day.iloc[0] >= ii[0] and u.day.iloc[-1] <= ii[1]:\n",
    "            \n",
    "            unique_names = u.display_name.unique()\n",
    "            indices = collections.defaultdict(int)\n",
    "            \n",
    "            for un in unique_names:\n",
    "                try:\n",
    "                    indices[un] = resource_order.index(un)\n",
    "                except ValueError:\n",
    "                    indices[un] = -1\n",
    "\n",
    "            sorted_names = sorted(indices.items(), key=lambda x: x[1])\n",
    "            \n",
    "            if len(sorted_names) > num_resource_threshold and max(indices.values()) > max_resource_threshold:\n",
    "                print(\"user: {}, num resources: {}, max_resource: {}, interval: {}\".format(\n",
    "                    u.user.iloc[0], len(sorted_names), max(indices.values()), ii\n",
    "                ))\n",
    "                display([x[0] for x in sorted_names])\n",
    "                i += 1\n",
    "                \n",
    "print(\"Num students: \" + str(i))"
   ]
  },
  {
   "cell_type": "code",
   "execution_count": null,
   "metadata": {},
   "outputs": [],
   "source": []
  }
 ],
 "metadata": {
  "kernelspec": {
   "display_name": "Python 3",
   "language": "python",
   "name": "python3"
  },
  "language_info": {
   "codemirror_mode": {
    "name": "ipython",
    "version": 3
   },
   "file_extension": ".py",
   "mimetype": "text/x-python",
   "name": "python",
   "nbconvert_exporter": "python",
   "pygments_lexer": "ipython3",
   "version": "3.8.2"
  }
 },
 "nbformat": 4,
 "nbformat_minor": 2
}
