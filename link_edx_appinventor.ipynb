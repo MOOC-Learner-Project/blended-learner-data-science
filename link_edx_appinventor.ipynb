{
 "cells": [
  {
   "cell_type": "code",
   "execution_count": null,
   "metadata": {
    "autoscroll": false,
    "ein.hycell": false,
    "ein.tags": "worksheet-0",
    "pycharm": {
     "name": "#%% \n"
    },
    "slideshow": {
     "slide_type": "-"
    }
   },
   "outputs": [],
   "source": [
    "import sqlite3\n",
    "import hashlib\n",
    "import json\n",
    "\n",
    "import pandas as pd\n",
    "import numpy as np\n",
    "import matplotlib.pyplot as plt\n",
    "import seaborn as sns\n",
    "from constants import *\n",
    "from utilities import get_node_info\n",
    "from datetime import datetime"
   ]
  },
  {
   "cell_type": "code",
   "execution_count": null,
   "metadata": {
    "autoscroll": false,
    "ein.hycell": false,
    "ein.tags": "worksheet-0",
    "pycharm": {
     "is_executing": false,
     "metadata": false,
     "name": "#%%\n"
    },
    "slideshow": {
     "slide_type": "-"
    }
   },
   "outputs": [],
   "source": [
    "## Paths for the server data files\n",
    "APPINVENTOR_PATH = 'data/STORAGE'\n",
    "SAVE_PATH = 'out_files/'\n",
    "SAVE_DATA_PATH = os.path.join(SAVE_PATH, 'noPII')\n",
    "APPINVENTOR_FILE_PATH = os.path.join(APPINVENTOR_PATH, '../ed_lc.out')\n",
    "COURSE_SEQUENTIAL = os.path.join(COURSE_PATH, 'sequential/')\n",
    "COURSE_VERTICAL = os.path.join(COURSE_PATH, 'vertical/')\n",
    "COURSE_CHAPTER = os.path.join(COURSE_PATH, 'chapter/')"
   ]
  },
  {
   "cell_type": "code",
   "execution_count": null,
   "metadata": {
    "autoscroll": false,
    "ein.hycell": false,
    "ein.tags": "worksheet-0",
    "pycharm": {
     "name": "#%%\n"
    },
    "slideshow": {
     "slide_type": "-"
    }
   },
   "outputs": [],
   "source": [
    "def hash_username(n):\n",
    "    \"\"\"Return the digest of a hashed username using RSA's MD5 algorithm\n",
    "\n",
    "    :param n: The username to hash\n",
    "    :returns: The hashed usernames digest\n",
    "    :rtype: String\n",
    "\n",
    "    \"\"\"\n",
    "    return hashlib.md5(n.encode('utf-8')).hexdigest()\n",
    "\n",
    "def hash_column(df_column):\n",
    "    \"\"\"Hash all usernames in a pandas dataframe column\n",
    "\n",
    "    :param df_column: The column to hash the usernames of\n",
    "    :returns: The column with its usernames hashed\n",
    "    :rtype: pandas.DataFrame\n",
    "\n",
    "    \"\"\"\n",
    "    return df_column.apply(lambda x: hash_username(x))\n",
    "\n",
    "def edit_name(name):\n",
    "    \"\"\"Append \"ed_\" to the front of a name.\n",
    "\n",
    "    :param name: The name to append to.\n",
    "    :returns: The modified name\n",
    "    :rtype: String\n",
    "\n",
    "    \"\"\"\n",
    "    return 'ed_{}'.format(name)                                         "
   ]
  },
  {
   "cell_type": "code",
   "execution_count": null,
   "metadata": {
    "autoscroll": false,
    "ein.hycell": false,
    "ein.tags": "worksheet-0",
    "pycharm": {
     "is_executing": false,
     "metadata": false,
     "name": "#%%\n"
    },
    "slideshow": {
     "slide_type": "-"
    }
   },
   "outputs": [],
   "source": [
    "# Load data\n",
    "files = os.listdir(EDX_DATA)\n",
    "\n",
    "print(*files, sep='\\n')\n",
    "\n",
    "id_map = pd.read_csv(os.path.join(EDX_DATA, ID_MAP_FILE_NAME))\n",
    "\n",
    "print(id_map.info())\n",
    "\n",
    "id_map['username'] = hash_column(id_map['username'])\n",
    "id_map['mapped_username_on_alfa'] = hash_column(id_map['mapped_username_on_alfa'])\n",
    "\n",
    "print(id_map.head(2))\n",
    "\n",
    "# Save\n",
    "id_map.to_csv(os.path.join(SAVE_DATA_PATH, edit_name(ID_MAP_FILE_NAME)))"
   ]
  },
  {
   "cell_type": "code",
   "execution_count": null,
   "metadata": {
    "autoscroll": false,
    "ein.hycell": false,
    "ein.tags": "worksheet-0",
    "pycharm": {
     "is_executing": false,
     "metadata": false,
     "name": "#%%\n"
    },
    "slideshow": {
     "slide_type": "-"
    }
   },
   "outputs": [],
   "source": [
    "## Grades\n",
    "grade_path = os.path.join(EDX_DATA, GRADE_FILE_NAME)\n",
    "grades = pd.read_csv(grade_path)\n",
    "\n",
    "print(grades.info())\n",
    "\n",
    "grades['Username'] = hash_column(grades['Username'])\n",
    "\n",
    "print(grades.Username.values[0])\n",
    "\n",
    "# Save\n",
    "grades.to_csv(os.path.join(SAVE_DATA_PATH, edit_name(GRADE_FILE_NAME)))\n"
   ]
  },
  {
   "cell_type": "code",
   "execution_count": null,
   "metadata": {
    "autoscroll": false,
    "ein.hycell": false,
    "ein.tags": "worksheet-0",
    "pycharm": {
     "is_executing": false,
     "metadata": false,
     "name": "#%%\n"
    },
    "slideshow": {
     "slide_type": "-"
    }
   },
   "outputs": [],
   "source": [
    "## Users from sqlite\n",
    "c = sqlite3.connect(os.path.join(APPINVENTOR_PATH, 'users.sqlite')).cursor()\n",
    "\n",
    "appinventor_users = {}\n",
    "\n",
    "for row in c.execute(\"SELECT uuid, email FROM users\"):\n",
    "    appinventor_users[row[0]] = hash_username(row[1])\n",
    "    \n",
    "print(list(appinventor_users.items())[:1])\n"
   ]
  },
  {
   "cell_type": "code",
   "execution_count": null,
   "metadata": {
    "autoscroll": false,
    "ein.hycell": false,
    "ein.tags": "worksheet-0",
    "pycharm": {
     "is_executing": false,
     "metadata": false,
     "name": "#%%\n"
    },
    "slideshow": {
     "slide_type": "-"
    }
   },
   "outputs": [],
   "source": [
    "## AppInventor file creation\n",
    "ai_df = pd.read_csv(APPINVENTOR_FILE_PATH, delimiter='\\s+', parse_dates=[[5,6]])\n",
    "ai_df = ai_df[['day_hour', 'bytes', 'path']]\n",
    "\n",
    "print(ai_df.info())\n",
    "print(ai_df.head(2))\n"
   ]
  },
  {
   "cell_type": "code",
   "execution_count": null,
   "metadata": {
    "autoscroll": false,
    "ein.hycell": false,
    "ein.tags": "worksheet-0",
    "pycharm": {
     "is_executing": false,
     "metadata": false,
     "name": "#%%\n"
    },
    "slideshow": {
     "slide_type": "-"
    }
   },
   "outputs": [],
   "source": [
    "## Get appinventor usernames and uuids for the files\n",
    "usernames = []\n",
    "uuids = []\n",
    "paths = []\n",
    "\n",
    "for name, row in ai_df.iterrows():\n",
    "    split = row.path.split('/')\n",
    "    uuid = split[1]    \n",
    "\n",
    "    uuids.append(uuid)\n",
    "\n",
    "    try:\n",
    "        n = appinventor_users[uuid]\n",
    "    except KeyError:\n",
    "        n = 'NA'\n",
    "\n",
    "    usernames.append(n)\n",
    "\n",
    "    if len(split) > 5 and split[5].startswith('ai_'):\n",
    "        username = hash_username(split[5].split('ai_')[1])\n",
    "        split[5] = username\n",
    "    \n",
    "    split = '/'.join(split)\n",
    "    paths.append(split)        \n",
    "    \n",
    "ai_df['username'] = usernames\n",
    "ai_df['uuid'] = uuids\n",
    "ai_df['path'] = paths\n",
    "\n",
    "print(ai_df.head(2))\n",
    "print(ai_df.path.values[4])\n",
    "\n",
    "# Save\n",
    "ai_df.to_csv(os.path.join(SAVE_DATA_PATH, edit_name('appinventor_files.csv')))\n"
   ]
  },
  {
   "cell_type": "code",
   "execution_count": null,
   "metadata": {
    "autoscroll": false,
    "ein.hycell": false,
    "ein.tags": "worksheet-0",
    "pycharm": {
     "is_executing": false,
     "metadata": false,
     "name": "#%%\n"
    },
    "slideshow": {
     "slide_type": "-"
    }
   },
   "outputs": [],
   "source": [
    "## Read clickstream data\n",
    "clickstream_path = os.path.join(EDX_DATA, CLICKSTREAM_FILE_NAME) \n",
    "clickstreams_json = []\n",
    "\n",
    "# For getting only a slice\n",
    "N_LINES = 100000000\n",
    "bad_lines = []\n",
    "\n",
    "with open(clickstream_path, 'r') as fd:\n",
    "    for i, line in enumerate(fd):\n",
    "        try:\n",
    "            clickstreams_json.append(json.loads(line))\n",
    "        except json.JSONDecodeError as e:\n",
    "           bad_lines.append((i, e))\n",
    "\n",
    "        if i > N_LINES:\n",
    "            break\n",
    "\n",
    "print(len(clickstreams_json), len(bad_lines))\n"
   ]
  },
  {
   "cell_type": "code",
   "execution_count": null,
   "metadata": {
    "autoscroll": false,
    "ein.hycell": false,
    "ein.tags": "worksheet-0",
    "pycharm": {
     "is_executing": false,
     "metadata": false,
     "name": "#%%\n"
    },
    "slideshow": {
     "slide_type": "-"
    }
   },
   "outputs": [],
   "source": [
    "clickstreams = pd.DataFrame(clickstreams_json)\n",
    "clickstreams['username'] = hash_column(clickstreams['username'])\n",
    "\n",
    "print(clickstreams.info())\n",
    "\n",
    "print(\"\"\"AppInventor users:{}\\n\n",
    "EdX users in student_profile-mini:{}\\n\n",
    "clickstream usernames:{}\"\"\".format(len(appinventor_users), \n",
    "                                   len(id_map), \n",
    "                                   clickstreams.username.nunique()))\n",
    "\n",
    "# Save\n",
    "clickstreams.to_csv(os.path.join(SAVE_DATA_PATH, edit_name(CLICKSTREAM_FILE_NAME)))\n"
   ]
  },
  {
   "cell_type": "code",
   "execution_count": null,
   "metadata": {
    "autoscroll": false,
    "ein.hycell": false,
    "ein.tags": "worksheet-0",
    "pycharm": {
     "is_executing": false,
     "name": "#%%\n"
    },
    "slideshow": {
     "slide_type": "-"
    }
   },
   "outputs": [],
   "source": [
    "## Who is in the mapping\n",
    "unique_users = clickstreams.username.unique()\n",
    "user_matches = {'click_id_map': [], 'id_map_app': []}\n",
    "\n",
    "for row in id_map.iterrows():\n",
    "    if row[1].username in unique_users:\n",
    "        user_matches['click_id_map'].append(row)\n",
    "\n",
    "        if row[1].mapped_username_on_alfa in ai_df.username.values:\n",
    "            user_matches['id_map_app'].append(row)\n",
    "        \n",
    "print('Clickstream and id_map matches: {}'.format(len(user_matches['click_id_map'])))\n",
    "print('Clickstream and id_map and AppInventor matches: {}'.format(len(user_matches['id_map_app'])))\n"
   ]
  },
  {
   "cell_type": "markdown",
   "metadata": {
    "ein.tags": "worksheet-0",
    "pycharm": {
     "metadata": false,
     "name": "#%% md\n"
    },
    "slideshow": {
     "slide_type": "-"
    }
   },
   "source": [
    "- Link activity at EdX and AppInventor\n",
    " - Identify one user\n",
    " - Plot EdXs use and AppInventor use on a timeline\n",
    " - Visits to and from AppInventor\n",
    " \n",
    " Assumptions: the file creation time on appinventor and the click time on EdX is used\n",
    " \n",
    " TODO create PII files"
   ]
  },
  {
   "cell_type": "code",
   "execution_count": null,
   "metadata": {
    "autoscroll": false,
    "ein.hycell": false,
    "ein.tags": "worksheet-0",
    "pycharm": {
     "is_executing": false,
     "metadata": false,
     "name": "#%%\n"
    },
    "slideshow": {
     "slide_type": "-"
    }
   },
   "outputs": [],
   "source": [
    "EDX_TYPE = 1\n",
    "AI_TYPE = 2\n",
    "\n",
    "# Transition types determined by access of either the EDX server or\n",
    "# the AppInventor server and then the subsequent access of either \n",
    "# of the two\n",
    "TRANSITION_TYPES = {\n",
    "    (EDX_TYPE, EDX_TYPE): 3,\n",
    "    (EDX_TYPE, AI_TYPE):  4,\n",
    "    (AI_TYPE, EDX_TYPE):  5,\n",
    "    (AI_TYPE, AI_TYPE):   6,\n",
    "}\n",
    "\n",
    "def get_empty_transitions():\n",
    "    \"\"\"Get an empty dictionary to hold all transitions\n",
    "\n",
    "    Return a dictionary to hold each transitions type and duration as lists.\n",
    "\n",
    "    :returns: The empty dictionary of lists.\n",
    "    :rtype: Dictionary of lists.\n",
    "\n",
    "    \"\"\"\n",
    "    return {'type': [], 'duration': []}\n",
    "\n",
    "def get_ai_user_dates(ai_user):\n",
    "    \"\"\"Get the times a user interacted with AppInventor\n",
    "\n",
    "    :param ai_user: The user\n",
    "    :returns: A list of times the user interacted with the server\n",
    "    :rtype: List\n",
    "\n",
    "    \"\"\"\n",
    "    return ai_df[ai_df['username'] == ai_user].day_hour.dt.tz_localize('UTC').sort_values()\n",
    "\n",
    "def get_clickstream_user_dates_from_appinventor(ai_user):\n",
    "    edx_user = id_map[id_map['mapped_username_on_alfa'] == ai_user].username.values[0]\n",
    "    click_times = clickstreams[clickstreams['username'] == edx_user]\n",
    "    \n",
    "    # Filter name TODO correct\n",
    "    click_times = click_times[pd.notnull(click_times['name'])]\n",
    "\n",
    "    click_times['time'] = pd.to_datetime(click_times['time'])\n",
    "\n",
    "    return click_times.time.sort_values()\n",
    "    \n",
    "def combine_ai_and_clickstream_dates(ai_dates, click_times):\n",
    "    edxs = [EDX_TYPE] * len(click_times)\n",
    "    edx_vals = list(zip(click_times, edxs))\n",
    "\n",
    "    ais = [AI_TYPE] * len(ai_dates)\n",
    "        ai_vals = list(zip(ai_dates, ais))\n",
    "    combined = sorted(ai_vals + edx_vals, key=lambda x: x[0])\n",
    "    \n",
    "    return np.array(combined)\n",
    "\n",
    "def get_ai_edx_transitions(clicks_and_files):\n",
    "    transitions = get_empty_transitions()\n",
    "    # TODO should be built in functions for this...\n",
    "    for i in range(1, clicks_and_files.shape[0]):\n",
    "        # TODO do not make your own categories\n",
    "        t_type = TRANSITION_TYPES[(clicks_and_files[i-1][1], clicks_and_files[i][1])]\n",
    "        transitions['type'].append(t_type)\n",
    "        duration = clicks_and_files[i][0] - clicks_and_files[i-1][0]\n",
    "        transitions['duration'].append(duration)\n",
    "\n",
    "    return transitions"
   ]
  },
  {
   "cell_type": "code",
   "execution_count": null,
   "metadata": {
    "autoscroll": false,
    "ein.hycell": false,
    "ein.tags": "worksheet-0",
    "pycharm": {
     "is_executing": false,
     "metadata": false,
     "name": "#%%\n"
    },
    "slideshow": {
     "slide_type": "-"
    }
   },
   "outputs": [],
   "source": [
    "sample_alfa_user = hash_username('user@em.ail')\n",
    "dates = get_ai_user_dates(sample_alfa_user)\n",
    "\n",
    "print(dates[:3])\n",
    "\n",
    "plt.plot(range(len(dates)), dates, linestyle='None', marker='o')\n"
   ]
  },
  {
   "cell_type": "code",
   "execution_count": null,
   "metadata": {
    "autoscroll": false,
    "ein.hycell": false,
    "ein.tags": "worksheet-0",
    "pycharm": {
     "is_executing": false,
     "metadata": false,
     "name": "#%%\n"
    },
    "slideshow": {
     "slide_type": "-"
    }
   },
   "outputs": [],
   "source": [
    "clicks = get_clickstream_user_dates_from_appinventor(sample_alfa_user)\n",
    "combined = combine_ai_and_clickstream_dates(dates, clicks)\n",
    "\n",
    "print(combined)\n",
    "\n",
    "plt.plot(combined[:,1], combined[:,0], linestyle='None', marker='o')\n"
   ]
  },
  {
   "cell_type": "code",
   "execution_count": null,
   "metadata": {
    "autoscroll": false,
    "ein.hycell": false,
    "ein.tags": "worksheet-0",
    "pycharm": {
     "is_executing": false,
     "metadata": false,
     "name": "#%%\n"
    },
    "slideshow": {
     "slide_type": "-"
    }
   },
   "outputs": [],
   "source": [
    "transitions = get_ai_edx_transitions(combined)\n",
    "display(transitions)\n",
    "time_unit = 's'\n",
    "times = [int(_ / np.timedelta64(1, time_unit)) for _ in transitions['duration']] \n",
    "\n",
    "plt.scatter(transitions['type'], times)\n",
    "plt.xlabel('State')\n",
    "plt.ylabel('Duration({})'.format(time_unit))\n"
   ]
  },
  {
   "cell_type": "code",
   "execution_count": null,
   "metadata": {
    "autoscroll": false,
    "ein.hycell": false,
    "ein.tags": "worksheet-0",
    "pycharm": {
     "is_executing": false,
     "metadata": false,
     "name": "#%%\n"
    },
    "slideshow": {
     "slide_type": "-"
    }
   },
   "outputs": [],
   "source": [
    "def set_transition(user_id, transitions):\n",
    "    sample_alfa_user = user_id.mapped_username_on_alfa\n",
    "\n",
    "    alfa_dates = get_ai_user_dates(sample_alfa_user)\n",
    "    edx_dates = get_clickstream_user_dates_from_appinventor(sample_alfa_user)\n",
    "    ai_edx_dates = combine_ai_and_clickstream_dates(alfa_dates, edx_dates)\n",
    "\n",
    "    transitions = get_ai_edx_transitions(ai_edx_dates)\n",
    "\n",
    "    for key, value in transitions.items():\n",
    "        all_transitions[key].extend(value)\n",
    "\n",
    "\n",
    "all_transitions = get_empty_transitions()\n",
    "\n",
    "for _, user_id in user_matches['id_map_app']:\n",
    "    set_transition(user_id, all_transitions)\n",
    "\n",
    "print(len(all_transitions['type']))\n",
    "\n",
    "df = pd.DataFrame(all_transitions)\n",
    "df['duration'] = df['duration'].apply(lambda x: int(x / np.timedelta64(1, time_unit))) \n",
    "\n",
    "print(df.head())\n"
   ]
  },
  {
   "cell_type": "code",
   "execution_count": null,
   "metadata": {
    "autoscroll": false,
    "ein.hycell": false,
    "ein.tags": "worksheet-0",
    "pycharm": {
     "is_executing": false,
     "metadata": false,
     "name": "#%%\n"
    },
    "slideshow": {
     "slide_type": "-"
    }
   },
   "outputs": [],
   "source": [
    "print(df[df['type'] == 6].duration.nunique())"
   ]
  },
  {
   "cell_type": "code",
   "execution_count": null,
   "metadata": {
    "autoscroll": false,
    "ein.hycell": false,
    "ein.tags": "worksheet-0",
    "pycharm": {
     "is_executing": false,
     "metadata": false,
     "name": "#%%\n"
    },
    "slideshow": {
     "slide_type": "-"
    }
   },
   "outputs": [],
   "source": [
    "for name, group in df.groupby(by='type'):\n",
    "    duration = group[group['duration'] < 100]\n",
    "    sns.distplot(duration.duration, label=str(name), kde=False)\n",
    "\n",
    "plt.legend()\n"
   ]
  },
  {
   "cell_type": "code",
   "execution_count": null,
   "metadata": {
    "autoscroll": false,
    "ein.hycell": false,
    "ein.tags": "worksheet-0",
    "pycharm": {
     "is_executing": false,
     "metadata": false,
     "name": "#%%\n"
    },
    "slideshow": {
     "slide_type": "-"
    }
   },
   "outputs": [],
   "source": [
    "sns.boxplot(x='type', y='duration', data=df)"
   ]
  },
  {
   "cell_type": "code",
   "execution_count": null,
   "metadata": {
    "autoscroll": false,
    "ein.hycell": false,
    "ein.tags": "worksheet-0",
    "pycharm": {
     "is_executing": false,
     "metadata": false,
     "name": "#%%\n"
    },
    "slideshow": {
     "slide_type": "-"
    }
   },
   "outputs": [],
   "source": [
    "df['ed_duration'] = df[df['duration'] < 600].duration\n",
    "sns.boxplot(x='type', y='ed_duration', data=df)"
   ]
  },
  {
   "cell_type": "code",
   "execution_count": null,
   "metadata": {
    "autoscroll": false,
    "ein.hycell": false,
    "ein.tags": "worksheet-0",
    "pycharm": {
     "is_executing": false,
     "metadata": false,
     "name": "#%%\n"
    },
    "slideshow": {
     "slide_type": "-"
    }
   },
   "outputs": [],
   "source": [
    "# Grades\n",
    "non_zero = grades[grades['Grade'] > 0]\n",
    "\n",
    "print(non_zero.shape)\n",
    "\n",
    "grade_users_in_appinventor = []\n",
    "        \n",
    "non_zero_grade_usernames = non_zero.Username.values\n",
    "\n",
    "for alfa_name in user_matches['id_map_app']:\n",
    "    username = alfa_name[1].username\n",
    "\n",
    "    if username in non_zero_grade_usernames:\n",
    "        grade_users_in_appinventor.append(username)\n",
    "\n",
    "print(len(grade_users_in_appinventor))\n"
   ]
  },
  {
   "cell_type": "code",
   "execution_count": null,
   "metadata": {
    "autoscroll": false,
    "ein.hycell": false,
    "ein.tags": "worksheet-0",
    "pycharm": {
     "is_executing": false,
     "metadata": false,
     "name": "#%%\n"
    },
    "slideshow": {
     "slide_type": "-"
    }
   },
   "outputs": [],
   "source": [
    "all_transitions = get_empty_transitions()\n",
    "\n",
    "for _, user_id in user_matches['id_map_app']:\n",
    "    if user_id.username in grade_users_in_appinventor:\n",
    "        set_transition(user_id, all_transitions)\n",
    "\n",
    "print(len(all_transitions['type']))\n",
    "\n",
    "df = pd.DataFrame(all_transitions)\n",
    "df['duration'] = df['duration'].apply(lambda x: int(x / np.timedelta64(1, time_unit))) \n",
    "df['ed_duration'] = df[df['duration'] < 1000].duration\n",
    "\n",
    "sns.boxplot(x='type', y='ed_duration', data=df)"
   ]
  },
  {
   "cell_type": "code",
   "execution_count": null,
   "metadata": {},
   "outputs": [],
   "source": []
  }
 ],
 "metadata": {
  "kernelspec": {
   "display_name": "Python 3",
   "language": "python",
   "name": "python3"
  },
  "language_info": {
   "codemirror_mode": {
    "name": "ipython",
    "version": 3
   },
   "file_extension": ".py",
   "mimetype": "text/x-python",
   "name": "python",
   "nbconvert_exporter": "python",
   "pygments_lexer": "ipython3",
   "version": "3.8.2"
  },
  "name": "link_edx_appinventor.ipynb",
  "pycharm": {
   "stem_cell": {
    "cell_type": "raw",
    "metadata": {
     "collapsed": false
    },
    "source": null
   }
  },
  "stem_cell": {
   "cell_type": "raw",
   "metadata": {
    "pycharm": {
     "metadata": false
    }
   },
   "source": ""
  }
 },
 "nbformat": 4,
 "nbformat_minor": 1
}
