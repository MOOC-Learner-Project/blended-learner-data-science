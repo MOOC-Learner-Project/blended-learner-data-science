{
 "cells": [
  {
   "cell_type": "code",
   "execution_count": null,
   "metadata": {},
   "outputs": [],
   "source": [
    "import dill\n",
    "dill.load_session('user_and_course_dfs.db')"
   ]
  },
  {
   "cell_type": "code",
   "execution_count": null,
   "metadata": {},
   "outputs": [],
   "source": [
    "from utilities import *"
   ]
  },
  {
   "cell_type": "code",
   "execution_count": null,
   "metadata": {},
   "outputs": [],
   "source": [
    "%run other_graphing_utilities.ipynb"
   ]
  },
  {
   "cell_type": "code",
   "execution_count": null,
   "metadata": {},
   "outputs": [],
   "source": [
    "def get_durations(data, session_threshold=TWO_HOURS):\n",
    "    durations = []\n",
    "\n",
    "    for u in data:\n",
    "        for i in range(u.time.count() - 1):\n",
    "            # For some reason, despite the timezones already being in UTC, they have to be converted\n",
    "            # again. Not sure if a bug or something is modifying them between assignment and here\n",
    "            time_diff = (u.time.iloc[i+1].tz_convert('UTC') - u.time.iloc[i].tz_convert('UTC')).total_seconds()\n",
    "            if time_diff > session_threshold: time_diff = 0\n",
    "            \n",
    "            durations.append((u.display_name.iloc[i], u.display_name.iloc[i+1], time_diff))\n",
    "\n",
    "    return pd.DataFrame(durations, columns=['from', 'to', 'duration'])\n",
    "\n",
    "def result_of_keep_reloads(keep_reloads, transitions):\n",
    "    if keep_reloads: return transitions\n",
    "    \n",
    "    if len(transitions): return transitions[transitions['from'] != transitions['to']]\n",
    "    \n",
    "    else: return transitions\n",
    "    \n",
    "def get_resource_index(resource, row=None, from_to=None):\n",
    "    try:\n",
    "        if row is not None:\n",
    "            if not from_to:\n",
    "                print(\"You must specify either the 'from' or 'to' column\")\n",
    "                return\n",
    "\n",
    "            return resource_order.index(row[from_to])\n",
    "        elif resource:\n",
    "            return resource_order.index(resource)\n",
    "        else:\n",
    "            print(\"You must specify either a resource or a row\")\n",
    "            return\n",
    "        \n",
    "    except ValueError as e:\n",
    "        print(e)\n",
    "        return np.nan\n",
    "    \n",
    "def get_resource_duration_sums(d_df):\n",
    "    all_resource_time = d_df.groupby(['from'])\n",
    "    \n",
    "    return all_resource_time.duration.sum().sort_values(ascending=False)    \n",
    "\n",
    "def get_resource_duration_avgs(d_df):\n",
    "    all_resource_time = d_df.groupby(['from'])\n",
    "    return all_resource_time.duration.mean().sort_values(ascending=False)"
   ]
  },
  {
   "cell_type": "code",
   "execution_count": null,
   "metadata": {},
   "outputs": [],
   "source": [
    "resource_durations = get_resource_duration_sums(get_durations(user_urls_dfs))"
   ]
  },
  {
   "cell_type": "code",
   "execution_count": null,
   "metadata": {},
   "outputs": [],
   "source": [
    "resource_counts = pd.concat(user_urls_dfs).display_name.value_counts()"
   ]
  },
  {
   "cell_type": "code",
   "execution_count": null,
   "metadata": {},
   "outputs": [],
   "source": [
    "resource_duration_avgs = get_resource_duration_avgs(get_durations(user_urls_dfs))"
   ]
  },
  {
   "cell_type": "markdown",
   "metadata": {},
   "source": [
    "## First Attempt"
   ]
  },
  {
   "cell_type": "code",
   "execution_count": null,
   "metadata": {},
   "outputs": [],
   "source": [
    "transition_counts = get_transition_counts(user_urls_dfs)"
   ]
  },
  {
   "cell_type": "code",
   "execution_count": null,
   "metadata": {},
   "outputs": [],
   "source": [
    "transition_counts['from_index'] = transition_counts.apply(\n",
    "    lambda x: get_resource_index(None, row=x, from_to=FROM), \n",
    "    axis=1)\n",
    "\n",
    "transition_counts['to_index'] = transition_counts.apply(\n",
    "    lambda x: get_resource_index(None, row=x, from_to=TO), \n",
    "    axis=1)\n",
    "\n",
    "\n",
    "transition_counts = transition_counts.dropna()\n",
    "transition_counts = transition_counts[transition_counts['from_index'] > transition_counts['to_index']]\n",
    "transition_counts = transition_counts.sort_values('count')\n",
    "transition_counts = transition_counts[transition_counts['count'] > 1]\n",
    "\n",
    "transitions_median = transition_counts['count'].median()\n",
    "transitions_mean = transition_counts['count'].mean()\n",
    "\n",
    "print(transitions_median)\n",
    "print(transitions_mean)\n",
    "display(transition_counts)"
   ]
  },
  {
   "cell_type": "code",
   "execution_count": null,
   "metadata": {},
   "outputs": [],
   "source": [
    "total_resource_duration = resource_durations.sum()\n",
    "\n",
    "ratios = [d/total_resource_duration for d in resource_durations]\n",
    "scale = 1/max(ratios)\n",
    "\n",
    "scaled_medians = []\n",
    "\n",
    "for display_name, ratio in zip(resource_durations.index, ratios):\n",
    "    scaled_medians.append((display_name, float(transitions_median*ratio*scale)))\n",
    "    \n",
    "scaled_medians_df = pd.DataFrame(scaled_medians, columns=['resource', 'scaled median']).set_index('resource')"
   ]
  },
  {
   "cell_type": "code",
   "execution_count": null,
   "metadata": {},
   "outputs": [],
   "source": [
    "display(scaled_medians_df)\n",
    "scaled_medians_df.to_csv(path_or_buf='tmp/scaled_medians.csv', )"
   ]
  },
  {
   "cell_type": "code",
   "execution_count": null,
   "metadata": {},
   "outputs": [],
   "source": [
    "medians = dict(scaled_medians)\n",
    "duration_avgs = dict(resource_duration_avgs)"
   ]
  },
  {
   "cell_type": "markdown",
   "metadata": {},
   "source": [
    "## Second Attempt"
   ]
  },
  {
   "cell_type": "code",
   "execution_count": null,
   "metadata": {},
   "outputs": [],
   "source": [
    "def get_review_duration_avgs(data):\n",
    "    durations = get_durations(data, session_threshold=TWO_HOURS)\n",
    "    durations = result_of_keep_reloads(False, durations)\n",
    "    \n",
    "    if not durations.size:\n",
    "        print(\"No durations\")\n",
    "        return\n",
    "    display(durations)\n",
    "    durations['from_index'] = durations.apply(\n",
    "        lambda x: get_resource_index(None, row=x, from_to=FROM), \n",
    "        axis=1)\n",
    "\n",
    "    durations['to_index'] = durations.apply(\n",
    "        lambda x: get_resource_index(None, row=x, from_to=TO), \n",
    "        axis=1)\n",
    "\n",
    "    durations = durations.dropna()\n",
    "    durations = durations[durations['from_index'] > durations['to_index']]\n",
    "    total_duration_avg = 3*60#np.quantile(durations['duration'], .91)\n",
    "    durations = durations[durations['duration'] > total_duration_avg].sort_values('duration')\n",
    "    \n",
    "    print(total_duration_avg/60)\n",
    "    \n",
    "    if not durations.size:\n",
    "        print(\"No valid reviews\")\n",
    "        return\n",
    "    \n",
    "    duration_avgs = get_transition_duration_avgs(durations, keep_reloads=False) \\\n",
    "                    .sort_values('duration average').sort_values(['from', 'to'])\n",
    "    \n",
    "    \n",
    "    occurences = durations.groupby(['from', 'to']).size() \\\n",
    "                 .to_frame(name='count').reset_index().sort_values(['from', 'to'])\n",
    "\n",
    "    duration_avgs['count'] = occurences['count']\n",
    "    duration_avgs = duration_avgs.sort_values('count')\n",
    "    duration_avgs = duration_avgs[duration_avgs['count'] > 1]\n",
    "\n",
    "    if not duration_avgs.size:\n",
    "        print(\"Transitions must occur more than once\")\n",
    "        return\n",
    "    \n",
    "    duration_avgs = duration_avgs[(duration_avgs['from'] != 'Server') & \\\n",
    "                                  (duration_avgs['to'] != 'Server')]\n",
    "\n",
    "    duration_avgs['from_ktype'] = duration_avgs.apply(\n",
    "        lambda x: get_knowledge_types_used_single(x['from'], resource_categories),\n",
    "        axis=1\n",
    "    )\n",
    "\n",
    "    duration_avgs['to_ktype'] = duration_avgs.apply(\n",
    "        lambda x: get_knowledge_types_used_single(x['to'], resource_categories),\n",
    "        axis=1\n",
    "    )\n",
    "\n",
    "\n",
    "    duration_avgs['from_index'] = duration_avgs.apply(\n",
    "        lambda x: get_resource_index(None, row=x, from_to=FROM), \n",
    "        axis=1)\n",
    "\n",
    "    duration_avgs['to_index'] = duration_avgs.apply(\n",
    "        lambda x: get_resource_index(None, row=x, from_to=TO), \n",
    "        axis=1)\n",
    "    \n",
    "    return duration_avgs\n",
    "\n",
    "\n",
    "def get_transition_duration_avgs(d_df, keep_reloads=False):\n",
    "    transitions = d_df.groupby(['from', 'to'])\n",
    "    avgs = transitions.duration.mean().to_frame(name='duration average').reset_index()\n",
    "\n",
    "    return result_of_keep_reloads(keep_reloads, avgs)\n"
   ]
  },
  {
   "cell_type": "code",
   "execution_count": null,
   "metadata": {
    "scrolled": true
   },
   "outputs": [],
   "source": [
    "reviews = get_review_duration_avgs(user_urls_dfs)\n",
    "reviews['origin'] = reviews['from']\n",
    "reviews['destination'] = reviews['to']\n",
    "reviews = reviews.drop(['duration average', 'from_ktype', \n",
    "                        'to_ktype', 'from_index', \n",
    "                        'to_index', 'from', 'to'], axis=1)\n",
    "\n",
    "display(reviews)"
   ]
  },
  {
   "cell_type": "code",
   "execution_count": null,
   "metadata": {},
   "outputs": [],
   "source": [
    "pd.set_option('display.max_colwidth', -1)\n",
    "display(reviews)"
   ]
  },
  {
   "cell_type": "code",
   "execution_count": null,
   "metadata": {},
   "outputs": [],
   "source": [
    "reviews = get_review_duration_avgs(ai_edx_dfs)\n",
    "display(reviews)"
   ]
  },
  {
   "cell_type": "code",
   "execution_count": null,
   "metadata": {},
   "outputs": [],
   "source": []
  }
 ],
 "metadata": {
  "kernelspec": {
   "display_name": "Python 3",
   "language": "python",
   "name": "python3"
  },
  "language_info": {
   "codemirror_mode": {
    "name": "ipython",
    "version": 3
   },
   "file_extension": ".py",
   "mimetype": "text/x-python",
   "name": "python",
   "nbconvert_exporter": "python",
   "pygments_lexer": "ipython3",
   "version": "3.8.2"
  }
 },
 "nbformat": 4,
 "nbformat_minor": 2
}
