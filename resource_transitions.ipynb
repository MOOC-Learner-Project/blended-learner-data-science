{
 "cells": [
  {
   "cell_type": "code",
   "execution_count": null,
   "metadata": {},
   "outputs": [],
   "source": [
    "import dill"
   ]
  },
  {
   "cell_type": "code",
   "execution_count": null,
   "metadata": {},
   "outputs": [],
   "source": [
    "dill.load_session('user_and_course_dfs.db')"
   ]
  },
  {
   "cell_type": "code",
   "execution_count": null,
   "metadata": {},
   "outputs": [],
   "source": [
    "import itertools\n",
    "from itertools import combinations \n",
    "from utilities import *"
   ]
  },
  {
   "cell_type": "code",
   "execution_count": null,
   "metadata": {},
   "outputs": [],
   "source": [
    "%run heatmap_utilities.ipynb\n",
    "%run other_graphing_utilities.ipynb\n",
    "c.to_file = False"
   ]
  },
  {
   "cell_type": "code",
   "execution_count": null,
   "metadata": {},
   "outputs": [],
   "source": [
    "def plot_transition_heatmap(data, *, figsize, font_scale=1, \n",
    "                            title_name=\"\", title_addition=\"\", \n",
    "                            transpose=False, tick_label_colors=None,\n",
    "                            width_ratios=None, quantile=True, vmax=None,\n",
    "                            all_resources=False, int_tick_labels=False,\n",
    "                            no_title=False):\n",
    "    \n",
    "    func = get_counts_all_resources if all_resources else get_counts\n",
    "    \n",
    "    plot_2d_values_heatmap(data, func=func, figsize=figsize, font_scale=font_scale, \n",
    "                           title_name=title_name, title_addition=title_addition,\n",
    "                           xlabel='Origin Resources - \"From\"',\n",
    "                           ylabel='Destination Resources - \"To\"', \n",
    "                           transpose=transpose, tick_label_colors=tick_label_colors,\n",
    "                           width_ratios=width_ratios, quantile=quantile, vmax=vmax,\n",
    "                           int_tick_labels=int_tick_labels, no_title=no_title)\n",
    "    \n",
    "def broken_y_bar_histogram_df(flattened, bins):\n",
    "    # TODO: make this simpler wiithout two calls to np.histogram\n",
    "    vals, divisions = map(list, np.histogram(flattened, bins=bins))\n",
    "    divisions = [int(d) for d in divisions]\n",
    "    vals, divisions = map(list, np.histogram(flattened, bins=divisions))\n",
    "    \n",
    "    # for some reason, numpy returns zero in its values for the histogram function...\n",
    "    i = 0\n",
    "\n",
    "    while i < len(vals):\n",
    "        if not vals[i]:\n",
    "            del vals[i]\n",
    "            del divisions[i]\n",
    "            i -= 1\n",
    "\n",
    "        i += 1\n",
    "        \n",
    "    vals.append(0)\n",
    "\n",
    "    return pd.DataFrame(zip(divisions, vals)).set_index(0)\n",
    "\n",
    "\n",
    "def get_transversal_frequency_hist_df(data, bins):\n",
    "    _, freqs = get_counts(data)\n",
    "    flattened = list(itertools.chain.from_iterable(freqs))\n",
    "\n",
    "    return broken_y_bar_histogram_df(flattened, bins=bins)\n"
   ]
  },
  {
   "cell_type": "code",
   "execution_count": null,
   "metadata": {},
   "outputs": [],
   "source": [
    "c.to_file = False\n",
    "plot_transition_heatmap(user_urls_dfs, figsize=(40,40),\n",
    "                       font_scale=4.5, no_title=True,\n",
    "                       int_tick_labels=True, vmax=50)"
   ]
  },
  {
   "cell_type": "code",
   "execution_count": null,
   "metadata": {},
   "outputs": [],
   "source": [
    "mod_figs = {\n",
    "    '1fa8ba0e70222969eae8a0b482b42628': (8, 8),\n",
    "    '2cb63d38c0d7afccf3853ee3e8b9653e': (10, 10),\n",
    "    '34710aa14b316648e90d3e97b8ca952b': (8, 8),\n",
    "    '533bd6d1652f38b4426120b2e6bc4977': (10, 10),\n",
    "    '5349577d9e4c7b0d0bfe3403e9be3d47': (20, 20),\n",
    "    '798ae73ecfb86a78ab89be6e3ee33595': (8, 8),\n",
    "    '7e9e8df5eb95867d189a107ca4706ea8': (20, 20),\n",
    "    'c4b6c2c3a3f08957abc17ee5c4752e84': (20, 20),\n",
    "    'fe540222fd0dfe96bcbc20d5a250e146': (20, 20)\n",
    "}\n",
    "\n",
    "plot_heatmaps(user_urls_dfs, mod_figs, plot_transition_heatmap)"
   ]
  },
  {
   "cell_type": "code",
   "execution_count": null,
   "metadata": {},
   "outputs": [],
   "source": [
    "plot_transition_heatmap(user_urls_dfs, figsize=(40, 40), \n",
    "                        font_scale=2.5, title_name=\"Combined (No SCM BKY)\",\n",
    "                        tick_label_colors=resource_categories,\n",
    "                        width_ratios=[1, 0.05])"
   ]
  },
  {
   "cell_type": "code",
   "execution_count": null,
   "metadata": {},
   "outputs": [],
   "source": [
    "mod_figs = {\n",
    "    '2cb63d38c0d7afccf3853ee3e8b9653e': (10, 10),\n",
    "    '34710aa14b316648e90d3e97b8ca952b': (10, 10),\n",
    "    '5349577d9e4c7b0d0bfe3403e9be3d47': (20, 20),\n",
    "    '96749bbb0b4e0976c985a92bd3f0ddb0': (10, 10)\n",
    "}\n",
    "\n",
    "plot_heatmaps(ai_edx_dfs, mod_figs, plot_transition_heatmap, title_addition=\"with SCM and BKY\")"
   ]
  },
  {
   "cell_type": "code",
   "execution_count": null,
   "metadata": {},
   "outputs": [],
   "source": [
    "plot_transition_heatmap(ai_edx_dfs, figsize=(40, 40), font_scale=2.5, \n",
    "                        title_name=\"Transposed Combined\", \n",
    "                        title_addition=\"with SCM and BKY\", \n",
    "                        transpose=True, tick_label_colors=resource_categories,\n",
    "                        width_ratios=[1, 0.05])"
   ]
  },
  {
   "cell_type": "code",
   "execution_count": null,
   "metadata": {},
   "outputs": [],
   "source": [
    "plot_transition_heatmap(all_resource_dfs, figsize=(80, 70), font_scale=2.5, \n",
    "                        title_name=\"Transposed Combined\", \n",
    "                        title_addition=\"with everything vmax=50\", \n",
    "                        transpose=True, tick_label_colors=resource_categories,\n",
    "                        width_ratios=[1, 0.05], vmax=50)"
   ]
  },
  {
   "cell_type": "code",
   "execution_count": null,
   "metadata": {},
   "outputs": [],
   "source": [
    "plot_transition_heatmap(all_resource_dfs, figsize=(80, 60), font_scale=2.5, \n",
    "                        title_name=\"Transposed Combined\", \n",
    "                        title_addition=\"with everything and all resources\", \n",
    "                        transpose=True,\n",
    "                        width_ratios=[1, 0.05], vmax=160, all_resources=True)"
   ]
  },
  {
   "cell_type": "code",
   "execution_count": null,
   "metadata": {},
   "outputs": [],
   "source": [
    "print(all_resource_dfs[2])"
   ]
  },
  {
   "cell_type": "code",
   "execution_count": null,
   "metadata": {},
   "outputs": [],
   "source": [
    "print(section_of_resources['Component property'])"
   ]
  },
  {
   "cell_type": "code",
   "execution_count": null,
   "metadata": {},
   "outputs": [],
   "source": [
    "filtered_units = []\n",
    "for u in all_resource_dfs:\n",
    "    filtered = []\n",
    "    for _, row in u.iterrows():\n",
    "        try:\n",
    "            if '6' in section_of_resources[row['display_name']] or '7' in section_of_resources[row['display_name']] \\\n",
    "            or '8' in section_of_resources[row['display_name']] or '9' in section_of_resources[row['display_name']]:\n",
    "                filtered.append(row)\n",
    "        except KeyError:\n",
    "            pass\n",
    "\n",
    "    if filtered:\n",
    "        filtered_units.append(pd.DataFrame(filtered))\n",
    "\n",
    "plot_transition_heatmap(filtered_units, figsize=(80, 60), font_scale=2.5, \n",
    "                        title_name=\"Units filtered\", \n",
    "                        title_addition=\"with everything and all resources\", \n",
    "                        transpose=True, tick_label_colors=resource_categories,\n",
    "                        width_ratios=[1, 0.05], all_resources=True)"
   ]
  },
  {
   "cell_type": "code",
   "execution_count": null,
   "metadata": {},
   "outputs": [],
   "source": [
    "plot_transition_heatmap(filtered_units, figsize=(40, 25), font_scale=2.5, \n",
    "                        title_name=\"Units filtered\",\n",
    "                        transpose=True, tick_label_colors=resource_categories,\n",
    "                        width_ratios=[1, 0.05], quantile=False)"
   ]
  },
  {
   "cell_type": "code",
   "execution_count": null,
   "metadata": {},
   "outputs": [],
   "source": [
    "df = get_transversal_frequency_hist_df(user_urls_dfs, 5)\n",
    "\n",
    "plot_broken_y_bar(\n",
    "    df, lims=[(0, 12), (4000, 4150)], \n",
    "    xlabel=\"Traversal (Without SCM and BKY) Frequency\", ylabel=\"Occurences\", \n",
    "    ylabel_loc=(-2.5, 15), figsize=(3, 4), breakline_len=.024,\n",
    "    width=1, align='edge'\n",
    ")"
   ]
  },
  {
   "cell_type": "code",
   "execution_count": null,
   "metadata": {},
   "outputs": [],
   "source": [
    "df = get_transversal_frequency_hist_df(ai_edx_dfs, 60)\n",
    "\n",
    "plot_broken_y_bar(\n",
    "    df, lims=[(0, 24), (4302, 4360)], \n",
    "    xlabel=\"Traversal (With SCM and BKY) Frequency\", ylabel=\"Occurences\", \n",
    "    ylabel_loc=(-3, 30), figsize=(3, 4), breakline_len=.024,\n",
    "    width=1, align='edge'\n",
    ")"
   ]
  },
  {
   "cell_type": "code",
   "execution_count": null,
   "metadata": {},
   "outputs": [],
   "source": []
  }
 ],
 "metadata": {
  "kernelspec": {
   "display_name": "Python 3",
   "language": "python",
   "name": "python3"
  },
  "language_info": {
   "codemirror_mode": {
    "name": "ipython",
    "version": 3
   },
   "file_extension": ".py",
   "mimetype": "text/x-python",
   "name": "python",
   "nbconvert_exporter": "python",
   "pygments_lexer": "ipython3",
   "version": "3.8.2"
  }
 },
 "nbformat": 4,
 "nbformat_minor": 2
}
